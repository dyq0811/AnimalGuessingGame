{
 "cells": [
  {
   "cell_type": "code",
   "execution_count": 1,
   "metadata": {},
   "outputs": [],
   "source": [
    "# Always reload imports if the file is changed on disk - this makes your changes in actr.py visible to the notebook\n",
    "%load_ext autoreload\n",
    "%autoreload 2\n",
    "\n",
    "# Import matplotlib and allow your graphs to show up in the notebook\n",
    "%matplotlib inline\n",
    "import matplotlib.pyplot as plt\n",
    "import numpy as np"
   ]
  },
  {
   "cell_type": "code",
   "execution_count": 2,
   "metadata": {},
   "outputs": [],
   "source": [
    "import actr # Make a file named actr.py so that this import line works"
   ]
  },
  {
   "cell_type": "markdown",
   "metadata": {},
   "source": [
    "## Build an ACT-R Model\n",
    "\n",
    "In this problem, you'll build a simplified ACT-R learner to recognize the past-tense of English verbs. This problem illustrates that while ACT-R is built on production rules, it also uses lots of machinery we'll talk about more later in the term, such as varying activation of production rules in order to capture the fact that people act differently in different situations. For this problem, you'll create a python module named `actr.py`. Place this file in the same directory as this notebook.\n",
    "    \n",
    "Included with the problem set are three files relevant to this problem: [verbChunks.txt](data/verbChunks.txt), [childesFrequency.txt](data/childesFrequency.txt), and [lags.txt](data/lags.txt). `verbChunks.txt` contains 10 English verbs. The first column is the name of the verb, the second column is the stem of the past tense of the verb, and the third column is the suffix of the past tense. `childesFrequency.txt` is the parental frequency count of each past tense verb in the [CHILDES corpus](https://childes.talkbank.org/) (Li & Shirai, 2000). CHILDES is a collection of transcripts of speech between children and parents (and occasionally experimenters); parental frequency count is how often a particular word was used by an adult. `lags.txt` is a collection of hypothetical time lags that might have elapsed since seeing instances of each of the past tense forms. Each of the ten columns in lags corresponds to a past tense form from chunks. The time lag in each row of lags is from a different instance of seeing that chunk. The number of lags for a chunk is (roughly) equal to the number of times that word was seen divided by 10; the lags are to a sampling of the occurrences rather than all of them, but you can generally ignore this fact when working through this problem."
   ]
  },
  {
   "cell_type": "markdown",
   "metadata": {},
   "source": [
    "### Baseline activations"
   ]
  },
  {
   "cell_type": "markdown",
   "metadata": {},
   "source": [
    "The baseline activation of a chunk for an ACT-R learner is:\n",
    "        \\begin{align}\n",
    "            \\text{activation} = \\ln \\sum_{\\text{lag} \\in \\text{lags}} \\text{lag}^{-d},\n",
    "        \\end{align}\n",
    "        where the sum is over the collection of time lags for a single verb, $d$ is the decay parameter of the model, and $\\ln$ is a logarithm with base $e$ (\"natural log\"). "
   ]
  },
  {
   "cell_type": "markdown",
   "metadata": {},
   "source": [
    "<div class=\"alert alert-success\" role=\"alert\">\n",
    "<h3>Part (a)</h3>\n",
    "<p>\n",
    "In your `actr.py` module, create:\n",
    "<ul>\n",
    "<li> A function `baseline\\_activation` that takes two parameters: a float $d$ and a list of lags, and returns the baseline activation for a chunk with the given lag times.\n",
    "<li> A function `compute\\_all\\_baselines` that takes one filename as a parameter: this should be a file of time lags (like `lags.txt`, although as with all homework specifications, anything in the same format - same columns - should work) with each column corresponding to one verb. This function should return a list of all baseline activations. Assume that we use a default decay parameter of $0.5$; we'll keep this decay parameter the same for the remainder of the problem. \n",
    "</ul>\n",
    "\n",
    "In the cell below, use your module to compute the baseline activations for the verbs in the Childes data. This cell should also create a bar graph showing the baseline activations for these verbs. Like all graphs you create for this class, you should make sure both axes are labeled and the graph should have a title.\n",
    "</div>"
   ]
  },
  {
   "cell_type": "code",
   "execution_count": 3,
   "metadata": {},
   "outputs": [
    {
     "data": {
      "image/png": "[encoded data removed]",
      "text/plain": [
       "<Figure size 432x288 with 1 Axes>"
      ]
     },
     "metadata": {
      "needs_background": "light"
     },
     "output_type": "display_data"
    }
   ],
   "source": [
    "baseline_activations = actr.compute_all_baselines(\"data/lags.txt\")\n",
    "verbs = list(actr.read_frequency(\"data/childesFrequency.txt\").keys())\n",
    "plt.bar(np.arange(len(verbs)), baseline_activations)\n",
    "plt.title(\"Baseline Activation for Verbs\")\n",
    "plt.xlabel(\"Verb\")\n",
    "plt.ylabel(\"Baseline Activation\")\n",
    "plt.xticks(np.arange(len(verbs)), verbs)\n",
    "plt.show()"
   ]
  },
  {
   "cell_type": "markdown",
   "metadata": {},
   "source": [
    "<div class=\"alert alert-success\" role=\"alert\">\n",
    "<h3>Part (b)</h3><p>\n",
    "Examine the baseline activation of “hide” versus “smash”. Which one has a higher activation? In the cell below, explain why this word has a higher activation, making reference both to how the activation is computed and the values for the time lags. Your explanation should help the reader make sense of the relationships between time lags and activations - it shouldn’t just say something like “the formula gives a higher number for word1 versus word2.”"
   ]
  },
  {
   "cell_type": "markdown",
   "metadata": {},
   "source": [
    "From the bar chart in Part(a), the word \"smash\" has a higher baseline activation than the word \"hide\". The reason for the difference is caused by the value of the time lag. From the data file [lags.txt](data/lags.txt), we can easily find that both words are seen for three times. However, the time lag between the word \"smash\" is much smaller than the time lag for \"hide\". More specifically, the time lags between each incidence for smash is 26, 58 153, while the time lags for \"hide\" is 268, 482 and 482. As a result, \"smash\" will leave a stronger impression in the learner's mind, and scores a higher value in the baseline activation. This finding also corresponds with the mathematical expression for activation.  Basically, a large value of $lag$ will result in a small value of $lag^{-d}$, and thus a smaller value in activation."
   ]
  },
  {
   "cell_type": "markdown",
   "metadata": {},
   "source": [
    "### Relating baseline activation and frequency"
   ]
  },
  {
   "cell_type": "markdown",
   "metadata": {},
   "source": [
    "<div class=\"alert alert-success\" role=\"alert\">\n",
    "<h3>Part (c)</h3><p>\n",
    "Explain the relationship between the frequency of each verb (in `childesFrequency.txt`) and the baseline activations. In general, what sort of pattern do you observe and why? Include in this section the code to create a scatter plot where the frequency of each verb is on the x-axis and the baseline activation for that verb is on the y-axis."
   ]
  },
  {
   "cell_type": "code",
   "execution_count": 4,
   "metadata": {},
   "outputs": [
    {
     "data": {
      "text/plain": [
       "Text(0.5, 1.0, 'Frequency vs. Baseline Activation for Verbs')"
      ]
     },
     "execution_count": 4,
     "metadata": {},
     "output_type": "execute_result"
    },
    {
     "data": {
      "image/png": "[encoded data removed]",
      "text/plain": [
       "<Figure size 432x288 with 1 Axes>"
      ]
     },
     "metadata": {
      "needs_background": "light"
     },
     "output_type": "display_data"
    }
   ],
   "source": [
    "frequencies = actr.read_frequency(\"data/childesFrequency.txt\").values()\n",
    "plt.scatter(list(frequencies), baseline_activations)\n",
    "plt.xlabel(\"Frequency\")\n",
    "plt.ylabel(\"Baseline Activation\")\n",
    "plt.title(\"Frequency vs. Baseline Activation for Verbs\")"
   ]
  },
  {
   "cell_type": "markdown",
   "metadata": {},
   "source": [
    "The scatter plot shows that there exits some sort of Logarithmic relationship between the baseline activation with frequency. When the frequency is relatively small, a small change in frequency corresponds to a large change in baseline activation. While after a certain value, the baseline activation becomes insensitive to the change in frequency. "
   ]
  },
  {
   "cell_type": "markdown",
   "metadata": {},
   "source": [
    "### Retrieval"
   ]
  },
  {
   "cell_type": "markdown",
   "metadata": {},
   "source": [
    "The activation of a chunk controls how easy it is to retrieve from memory. We assume an activation threshold of $\\tau = 0.3$: a chunk can only be retrieved from memory if its activation is greater than 0.3. "
   ]
  },
  {
   "cell_type": "markdown",
   "metadata": {},
   "source": [
    "<div class=\"alert alert-success\" role=\"alert\">\n",
    "<h3>Part (d)</h3><p>\n",
    "Given the activations you computed in part (a), which past tense forms can be retrieved from memory by this learner? In the cell below, include code that computes and displays your answer. \n",
    "</div>"
   ]
  },
  {
   "cell_type": "code",
   "execution_count": 5,
   "metadata": {},
   "outputs": [
    {
     "name": "stdout",
     "output_type": "stream",
     "text": [
      "walked\n",
      "broke\n",
      "thought\n",
      "caught\n"
     ]
    }
   ],
   "source": [
    "retrievable_index = []\n",
    "for i in range(len(baseline_activations)):\n",
    "    if baseline_activations[i] > 0.3:\n",
    "        retrievable_index.append(i)\n",
    "        print(\"\".join(actr.read_verb_chunks(\"data/verbChunks.txt\")[verbs[i]]))"
   ]
  },
  {
   "cell_type": "markdown",
   "metadata": {},
   "source": [
    "<div class=\"alert alert-success\" role=\"alert\">\n",
    "<h3>Part (d, continued)</h3><p>\n",
    "Imagine there's a word that has only been seen once (so there's exactly one time lag). For how long after exposure could the learner retrieve this word from memory, assuming the default decay and activation thresholds? Explain your answer, including showing relevant work (math or coding) and a short text explanation.\n",
    "</div>"
   ]
  },
  {
   "cell_type": "markdown",
   "metadata": {},
   "source": [
    "Assume the time lag is $l$, and $activation = ln(l^{-d})=ln(l^{-0.5})$. Considering the word can only be retrieved from memory if $activation > 0.3$, the inequality becomes $ln(l^{-0.5})>0.3$. By solving this inequality, we get $l<(\\frac{1}{e^{0.3}})^2 \\approx 0.549$. Thus, the learner can retrieve the word from from memory after 0.549 unit of time. "
   ]
  },
  {
   "cell_type": "markdown",
   "metadata": {},
   "source": [
    "### Time lags and retrieval"
   ]
  },
  {
   "cell_type": "markdown",
   "metadata": {},
   "source": [
    "<div class=\"alert alert-success\" role=\"alert\">\n",
    "<h3>Part (e)</h3><p>\n",
    "Imagine there are two different words. Both have been seen by the learner ten times. Create two different series of time lags such that the first word is retrievable from memory but the second word is not. Write down these timelags in the cell below, and demonstrate that the first word is retrievable from memory and the second is not."
   ]
  },
  {
   "cell_type": "code",
   "execution_count": 6,
   "metadata": {},
   "outputs": [
    {
     "name": "stdout",
     "output_type": "stream",
     "text": [
      "Baseline activation for the first word: 2.302585092994046\n",
      "Baseline activation for the second word: -1.1102230246251565e-16\n"
     ]
    }
   ],
   "source": [
    "time_lag_one = [1,1,1,1,1,1,1,1,1,1]\n",
    "time_lag_two = [100,100,100,100,100,100,100,100,100,100]\n",
    "print(\"Baseline activation for the first word: \" + str(actr.baseline_activation(0.5, time_lag_one)))\n",
    "print(\"Baseline activation for the second word: \" + str(actr.baseline_activation(0.5, time_lag_two)))"
   ]
  },
  {
   "cell_type": "markdown",
   "metadata": {},
   "source": [
    "From the computation above, the first word has a baseline activation greater than $0.3$ so it is retrievable, while the second word is smaller than $0.3$ so it is not retrievable."
   ]
  },
  {
   "cell_type": "markdown",
   "metadata": {},
   "source": [
    "### Retrieval time"
   ]
  },
  {
   "cell_type": "markdown",
   "metadata": {},
   "source": [
    "For chunks that have high enough activation to be retrieved, retrieval time $t$ is computed as $t = F\\cdot \\exp(-fA)$, where $A$ is the baseline activation and $F, f$ are parameters of the model. $\\exp$ means the mathematical constant $e$ raised to a particular power; for instance, $\\exp(-fA) = e^{-fA}$. "
   ]
  },
  {
   "cell_type": "markdown",
   "metadata": {},
   "source": [
    "<div class=\"alert alert-success\" role=\"alert\">\n",
    "<h3>Part (f)</h3><p>\n",
    "In your `actr.py` module, write a function `retrieval\\_time` that takes three parameters: (1) the activation, (2) $F$, and (3) $f$. This function should return the retrieval time for the chunk. \n",
    "<p><p>\n",
    "In the cell below, use $F = 0.5$ and $f = 0.25$ to compute the retrieval time for all the past tense forms that have high enough activation to be retrieved. Print out the retrieval times, labeled with which verbs they refer to."
   ]
  },
  {
   "cell_type": "code",
   "execution_count": 7,
   "metadata": {},
   "outputs": [
    {
     "name": "stdout",
     "output_type": "stream",
     "text": [
      "verb, retrieval time\n",
      "walk, 0.45400865264495743\n",
      "break, 0.35204015258394017\n",
      "think, 0.26545198810389925\n",
      "catch, 0.4493173421730762\n"
     ]
    }
   ],
   "source": [
    "print(\"verb, retrieval time\")\n",
    "for i in retrievable_index:\n",
    "    print(verbs[i]+\",\", actr.retrieval_time(baseline_activations[i], 0.5, 0.25))"
   ]
  },
  {
   "cell_type": "markdown",
   "metadata": {},
   "source": [
    " <div class=\"alert alert-success\" role=\"alert\">\n",
    "<h3>Part (g)</h3>\n",
    "<p> Experiment with different values of $f$, restricting yourself to values in between 0 and 1. In the cell below, describe the pattern of how the magnitude of this parameter affects the retrieval time. You should include evidence from your experimentation to support the pattern you describe (you can include this evidence in additional cells, interspersed with text in any way that helps you explain the pattern)."
   ]
  },
  {
   "cell_type": "code",
   "execution_count": 8,
   "metadata": {},
   "outputs": [
    {
     "data": {
      "text/plain": [
       "Text(0.5, 1.0, 'Parameter $f$ vs. Retrieval Time for Retrievable Verbs')"
      ]
     },
     "execution_count": 8,
     "metadata": {},
     "output_type": "execute_result"
    },
    {
     "data": {
      "image/png": "[encoded data removed]",
      "text/plain": [
       "<Figure size 432x288 with 1 Axes>"
      ]
     },
     "metadata": {
      "needs_background": "light"
     },
     "output_type": "display_data"
    }
   ],
   "source": [
    "verb_times_map = {}\n",
    "f_values = np.linspace(0,1,51)\n",
    "for i in retrievable_index:\n",
    "    verb_times_map[verbs[i]] = []\n",
    "    for f in f_values:\n",
    "        verb_times_map[verbs[i]].append(actr.retrieval_time(baseline_activations[i], 0.5, f))\n",
    "\n",
    "for verb in verb_times_map:\n",
    "    plt.scatter(f_values, verb_times_map[verb], marker = \".\", label = verb)\n",
    "plt.legend(loc = 'best')\n",
    "plt.xlabel(\"Parameter $f$\")\n",
    "plt.ylabel(\"Retrieval Time\")\n",
    "plt.title(\"Parameter $f$ vs. Retrieval Time for Retrievable Verbs\")"
   ]
  },
  {
   "cell_type": "markdown",
   "metadata": {},
   "source": [
    "The scattered plot shows that there exists an exponential relationship between retrieval time and $f$. The trend is also related to the baseline activation. When $f$ increases, the retrieval time decrases more significantly for words with a bigger baseline activation such as \"think\" and \"break\", while less significantly for words with small baseline activation such as \"walk\" and \"catch\"."
   ]
  },
  {
   "cell_type": "markdown",
   "metadata": {},
   "source": [
    "### Utilities"
   ]
  },
  {
   "cell_type": "markdown",
   "metadata": {},
   "source": [
    "An ACT-R learner only retrieves chunks from memory when retrieval is requested by a production rule. Production rules are selected according to their utility. The utility of a production rule $i$ is given by $U_{i} = P_{i}\\cdot G - C_{i}$, where $P_i$ is the probability of success, $G$ is the value of the current goal, and $C_i$ is the cost\n",
    "for using this rule (measured in units of time). We will assume that the value $G$ of creating a past tense form is equal to $5$. We will further make the simplifying assumption that the learner only has two possible rules for creating past tense forms: the regular past tense rule (``add -ed'') and the retrieval rule. \n",
    "\n"
   ]
  },
  {
   "cell_type": "markdown",
   "metadata": {},
   "source": [
    " <div class=\"alert alert-success\" role=\"alert\">\n",
    "<h3>Part (h)</h3>\n",
    "<p>The regular past tense rule always succeeds in producing a past tense form, so $P_i=1$ for this rule. The cost $C_i$ for the regular rule is stipulated as a phonetic post-processing cost of $1.2$.\n",
    "<br><br>\n",
    "In your module `actr.py`, write a function `regular\\_utility` that takes no parameters and uses these default values to compute the utility of the regular rule; the function should return the rule's utility. "
   ]
  },
  {
   "cell_type": "markdown",
   "metadata": {},
   "source": [
    " <div class=\"alert alert-success\" role=\"alert\">\n",
    "<h3>Part (i)</h3>\n",
    "<p>\n",
    "To compute the retrieval rule's utility, we need to average over the words that our learner will want to produce. We assume that our learner tries to produce forms in the lexicon according to their frequencies.  This probability of success, $P_i$, can be computed as the ratio of the total frequency of words above the activation threshold $\\tau$ to the total frequency of all words. You also need to know the average cost $C_i$, which is equal to the average retrieval time. The average retrieval time is the average of the retrieval times for all words in the vocabulary that can be retrieved, weighted by their frequency. For instance, assume there are two words in the vocabulary: word1 has retrieval time 2 and frequency 10, and word2 has retrieval time 1 and frequency 1. The average retrieval time is $(2\\times 10 + 1\\times 1)/(10+1)$. Words that cannot be retrieved do not count towards the cost.\n",
    "\n",
    "In `actr.py`, write a function `retrieval\\_utility` which takes two parameters: (1) the path for a frequency file (like `data/childesFrequency.txt`) and (2) the path for a time lags file (like `data/lags.txt`). This function should return the utility of the retrieval rule based on the given frequencies and lags.  When calculating retrieval times, assume $F = 0.5$, $f = 0.25$, and $G = 5$. \n",
    "\n",
    "Use your function to compute the utility of the retrieval rule given the data you have been provided, and print out the results in the cell below for the utility of the regular rule and the utility of the retrieval rule."
   ]
  },
  {
   "cell_type": "code",
   "execution_count": 9,
   "metadata": {},
   "outputs": [
    {
     "name": "stdout",
     "output_type": "stream",
     "text": [
      "Utility for regular rule: 3.8\n",
      "Utility for retrieval rule: 4.194717221278417\n"
     ]
    }
   ],
   "source": [
    "print(\"Utility for regular rule: \" + str(actr.regular_utility()))\n",
    "print(\"Utility for retrieval rule: \" + str(actr.retrieval_utility(\"data/childesFrequency.txt\", \"data/lags.txt\")))"
   ]
  },
  {
   "cell_type": "markdown",
   "metadata": {},
   "source": [
    " <div class=\"alert alert-success\" role=\"alert\">\n",
    "<h3>Part (j)</h3>\n",
    "<p>\n",
    "Assume the learner always starts by using the rule with higher utility, and then if the first rule fails (i.e., can't be executed with this word), uses the rule with lower utility. Given the data distributed with the problem set, which past tense forms will your learner produce correctly? Which past tense forms will your learner over-regularize? Over-regularizing is when a rule like ``add -ed'' is used for verbs it shouldn't be, such as saying ``I thinked'' rather than ``I thought.'' Write your answers in the cell below, showing any work supporting your answers."
   ]
  },
  {
   "cell_type": "code",
   "execution_count": 10,
   "metadata": {},
   "outputs": [
    {
     "name": "stdout",
     "output_type": "stream",
     "text": [
      "Irretrieveble words:  wear help talk listen hide smash\n",
      "Over-regularizing words:  wear hide\n"
     ]
    }
   ],
   "source": [
    "irretrievable_index = []\n",
    "over_regularize_words = \"\"\n",
    "irretrievable_words= \"\"\n",
    "\n",
    "for i in range(len(baseline_activations)):\n",
    "    if baseline_activations[i] <= 0.3:\n",
    "        irretrievable_index.append(i)\n",
    "        this_word_stem = actr.read_verb_chunks(\"data/verbChunks.txt\")[verbs[i]][0]\n",
    "        this_word_present = verbs[i]\n",
    "        irretrievable_words += \" \" + this_word_present\n",
    "        if this_word_stem != this_word_present:\n",
    "            over_regularize_words += \" \" + this_word_present\n",
    "\n",
    "print(\"Irretrieveble words: \" + irretrievable_words)\n",
    "print(\"Over-regularizing words: \" + over_regularize_words)"
   ]
  },
  {
   "cell_type": "markdown",
   "metadata": {},
   "source": [
    "The first line above includes the past tense for words that cannnot be retrieved. For those words, the learner will apply the regular rule. As we can see, the words \"help, talk, listen and smash\" all follow the regular rule while the words \"wear\" and \"hide\" do not. Therefore, the learner tends to over-regularize \"wear\" and \"hide\". "
   ]
  },
  {
   "cell_type": "markdown",
   "metadata": {},
   "source": [
    "### Overregularization and ACT-R"
   ]
  },
  {
   "cell_type": "markdown",
   "metadata": {},
   "source": [
    " <div class=\"alert alert-success\" role=\"alert\">\n",
    "<h3>Part (j)</h3>\n",
    "<p>\n",
    "Some studies of children's overregularization have found that children start off not overregularizing the verbs they know, then overregularize for a period of time, and then finally consistently produce correct verbs. Could this pattern be consistent with this simplified ACT-R model? Explain why or why not, making reference to trends in the data that you might expect to see and how this would or would not lead to the proposed pattern."
   ]
  },
  {
   "cell_type": "markdown",
   "metadata": {},
   "source": [
    "The simplified ACT-R model does account for the result of those studies. From what we computed in Part(d), we know that the ACT-R model predicts that learner can retrieve the word from memory after 0.549 unit of time if the word is only seen once. Assume the word is the first word that the child learns, the utility for retrieval rule will be $U_i=P_iG-C_i > 1\\times5 - 0.5⋅exp(−0.5⋅0.3) \\approx 4.43 $ in that period of time. Compared to the utility for the regular rule, the child will apply the retrieval rule which has greater utility and will not overregularize this word. \n",
    "\n",
    "But when the number of words increases, there will exist some words that children cannot activate their past tense, e.g the words shown in previous section. Also, some words might have a long time lag, which results in a small baseline activation and long retrieval time. Thus, the cost $C_i$ will also increase. As a result, the $U_i$ for the retrieval rule will decrease. The inability to activate word and the decrease in the utility of retrieval rule are two major causes for the children start to apply the regular rule and overregularize words.\n",
    "\n",
    "However, when the number of times for seeing the word increase, the baseline activation for that word will increase and reach the threshold, which is $0.3$ in this model. Also, in part(g), we illustrate that the retrieval time has a decreasing trend if either $f$ or $A$ increases. Specifically in this case, the increase in baseline activation will cause the decrease in retrieval time, which means the $C_i$ will decrease and $U_i$ for retrieval rule will increase. Thus, children will apply the retrieval rule again and not overregularize anymore.   "
   ]
  }
 ],
 "metadata": {
  "kernelspec": {
   "display_name": "Python 3",
   "language": "python",
   "name": "python3"
  },
  "language_info": {
   "codemirror_mode": {
    "name": "ipython",
    "version": 3
   },
   "file_extension": ".py",
   "mimetype": "text/x-python",
   "name": "python",
   "nbconvert_exporter": "python",
   "pygments_lexer": "ipython3",
   "version": "3.6.2"
  }
 },
 "nbformat": 4,
 "nbformat_minor": 1
}
